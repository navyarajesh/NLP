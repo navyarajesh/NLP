{
  "nbformat": 4,
  "nbformat_minor": 0,
  "metadata": {
    "colab": {
      "provenance": []
    },
    "kernelspec": {
      "name": "python3",
      "display_name": "Python 3"
    },
    "language_info": {
      "name": "python"
    }
  },
  "cells": [
    {
      "cell_type": "code",
      "execution_count": 18,
      "metadata": {
        "colab": {
          "base_uri": "https://localhost:8080/"
        },
        "id": "tQrLCR9AlmdY",
        "outputId": "d1f82a42-6bda-4a8b-efdb-a963cecaa2d7"
      },
      "outputs": [
        {
          "output_type": "stream",
          "name": "stdout",
          "text": [
            "\n",
            " Sample Parsed Dates (First 5):\n",
            "\n",
            "Input: The event will take place on March 5, 2023.\n",
            "Parsed: 05/03/2023\n",
            "\n",
            "Input: Her birthday is on 07/08/1990.\n",
            "Parsed: 07/08/1990\n",
            "\n",
            "Input: The deadline is 2022-12-31.\n",
            "Parsed: 31/12/2022\n",
            "\n",
            "Input: We met on 1st of January 2000.\n",
            "Parsed: 01/01/2000\n",
            "\n",
            "Input: The concert is scheduled for 15th September, 2021.\n",
            "Parsed: 15/09/2021\n",
            "\n",
            " All dates parsed. Output saved to 'parsed_dates_output.csv'\n"
          ]
        }
      ],
      "source": [
        "import re\n",
        "import csv\n",
        "\n",
        "# Month name to number\n",
        "month_map = {\n",
        "    'january': '01', 'jan': '01',\n",
        "    'february': '02', 'feb': '02',\n",
        "    'march': '03', 'mar': '03',\n",
        "    'april': '04', 'apr': '04',\n",
        "    'may': '05',\n",
        "    'june': '06', 'jun': '06',\n",
        "    'july': '07', 'jul': '07',\n",
        "    'august': '08', 'aug': '08',\n",
        "    'september': '09', 'sep': '09', 'sept': '09',\n",
        "    'october': '10', 'oct': '10',\n",
        "    'november': '11', 'nov': '11',\n",
        "    'december': '12', 'dec': '12'\n",
        "}\n",
        "\n",
        "def clean_day(day):\n",
        "    return re.sub(r'(st|nd|rd|th)', '', day)\n",
        "\n",
        "def parse_date(text):\n",
        "    text = text.lower()\n",
        "\n",
        "    # Match: 21st June 2024 or 21st of June, 2024\n",
        "    m1 = re.search(r'(\\d{1,2})(st|nd|rd|th)?(?:\\s+of)?\\s+([a-zA-Z]+)[,\\s]+(\\d{4})', text)\n",
        "    if m1:\n",
        "        day = clean_day(m1.group(1))\n",
        "        month = month_map.get(m1.group(3).strip().lower(), '00')\n",
        "        year = m1.group(4)\n",
        "        return f\"{day.zfill(2)}/{month}/{year}\"\n",
        "\n",
        "    # Match: June 21, 2024\n",
        "    m2 = re.search(r'([a-zA-Z]+)\\s+(\\d{1,2})(st|nd|rd|th)?,?\\s+(\\d{4})', text)\n",
        "    if m2:\n",
        "        month = month_map.get(m2.group(1).strip().lower(), '00')\n",
        "        day = clean_day(m2.group(2))\n",
        "        year = m2.group(4)\n",
        "        return f\"{day.zfill(2)}/{month}/{year}\"\n",
        "\n",
        "    # Match: YYYY-MM-DD\n",
        "    m3 = re.search(r'(\\d{4})-(\\d{2})-(\\d{2})', text)\n",
        "    if m3:\n",
        "        year, month, day = m3.groups()\n",
        "        return f\"{day}/{month}/{year}\"\n",
        "\n",
        "    # Match: DD/MM/YYYY or MM/DD/YYYY (assuming DD/MM/YYYY)\n",
        "    m4 = re.search(r'(\\d{1,2})/(\\d{1,2})/(\\d{4})', text)\n",
        "    if m4:\n",
        "        day, month, year = m4.groups()\n",
        "        return f\"{day.zfill(2)}/{month.zfill(2)}/{year}\"\n",
        "\n",
        "    return \"DATE NOT FOUND\"\n",
        "\n",
        "# Read input CSV\n",
        "input_path = \"date_parser_testcases (1).csv\"\n",
        "output_rows = []\n",
        "\n",
        "with open(input_path, newline='', encoding='utf-8') as csvfile:\n",
        "    reader = csv.DictReader(csvfile)\n",
        "    for row in reader:\n",
        "        text = row['text'] if 'text' in row else list(row.values())[0]\n",
        "        parsed = parse_date(text)\n",
        "        output_rows.append({'text': text, 'parsed_date': parsed})\n",
        "\n",
        "# Write output CSV\n",
        "with open(\"parsed_dates_output.csv\", mode='w', newline='', encoding='utf-8') as out_csv:\n",
        "    writer = csv.DictWriter(out_csv, fieldnames=['text', 'parsed_date'])\n",
        "    writer.writeheader()\n",
        "    writer.writerows(output_rows)\n",
        "\n",
        "# ✅ Print a few samples\n",
        "print(\"\\n Sample Parsed Dates (First 5):\\n\")\n",
        "for sample in output_rows[:5]:\n",
        "    print(f\"Input: {sample['text']}\")\n",
        "    print(f\"Parsed: {sample['parsed_date']}\\n\")\n",
        "\n",
        "print(\" All dates parsed. Output saved to 'parsed_dates_output.csv'\")\n"
      ]
    },
    {
      "cell_type": "code",
      "source": [
        "!pip install --upgrade pip setuptools wheel\n",
        "!pip install gensim==4.3.2\n"
      ],
      "metadata": {
        "colab": {
          "base_uri": "https://localhost:8080/"
        },
        "id": "JXVOzJu2zm8M",
        "outputId": "34e77678-b6c2-4bca-88b2-be8cde05c38d"
      },
      "execution_count": 1,
      "outputs": [
        {
          "output_type": "stream",
          "name": "stdout",
          "text": [
            "Requirement already satisfied: pip in /usr/local/lib/python3.12/dist-packages (25.2)\n",
            "Requirement already satisfied: setuptools in /usr/local/lib/python3.12/dist-packages (80.9.0)\n",
            "Requirement already satisfied: wheel in /usr/local/lib/python3.12/dist-packages (0.45.1)\n",
            "Collecting gensim==4.3.2\n",
            "  Using cached gensim-4.3.2.tar.gz (23.3 MB)\n",
            "  Installing build dependencies ... \u001b[?25l\u001b[?25hdone\n",
            "  Getting requirements to build wheel ... \u001b[?25l\u001b[?25hdone\n",
            "  Preparing metadata (pyproject.toml) ... \u001b[?25l\u001b[?25hdone\n",
            "Requirement already satisfied: numpy>=1.18.5 in /usr/local/lib/python3.12/dist-packages (from gensim==4.3.2) (2.0.2)\n",
            "Requirement already satisfied: scipy>=1.7.0 in /usr/local/lib/python3.12/dist-packages (from gensim==4.3.2) (1.16.1)\n",
            "Requirement already satisfied: smart_open>=1.8.1 in /usr/local/lib/python3.12/dist-packages (from gensim==4.3.2) (7.3.0.post1)\n",
            "Requirement already satisfied: wrapt in /usr/local/lib/python3.12/dist-packages (from smart_open>=1.8.1->gensim==4.3.2) (1.17.3)\n",
            "Building wheels for collected packages: gensim\n",
            "  Building wheel for gensim (pyproject.toml) ... \u001b[?25l\u001b[?25hdone\n",
            "  Created wheel for gensim: filename=gensim-4.3.2-cp312-cp312-linux_x86_64.whl size=26332391 sha256=21707901fc7fc7674c2dd0aff29c0d5e150cecf093d11cbe7ec5657b71887550\n",
            "  Stored in directory: /root/.cache/pip/wheels/50/c0/ac/7bb08954bc59d390c848b480a3fc5eec68c14bc77bf334d624\n",
            "Successfully built gensim\n",
            "Installing collected packages: gensim\n",
            "Successfully installed gensim-4.3.2\n"
          ]
        }
      ]
    },
    {
      "cell_type": "code",
      "source": [
        "!pip install gensim"
      ],
      "metadata": {
        "colab": {
          "base_uri": "https://localhost:8080/",
          "height": 689
        },
        "id": "E0zP-vUlipdo",
        "outputId": "ffeaaceb-9cfc-4f8c-9ee7-8cb67bcfe3b8"
      },
      "execution_count": 2,
      "outputs": [
        {
          "output_type": "stream",
          "name": "stdout",
          "text": [
            "Collecting gensim\n",
            "  Downloading gensim-4.3.3-cp312-cp312-manylinux_2_17_x86_64.manylinux2014_x86_64.whl.metadata (8.1 kB)\n",
            "Collecting numpy<2.0,>=1.18.5 (from gensim)\n",
            "  Downloading numpy-1.26.4-cp312-cp312-manylinux_2_17_x86_64.manylinux2014_x86_64.whl.metadata (61 kB)\n",
            "\u001b[2K     \u001b[90m━━━━━━━━━━━━━━━━━━━━━━━━━━━━━━━━━━━━━━━━\u001b[0m \u001b[32m61.0/61.0 kB\u001b[0m \u001b[31m2.4 MB/s\u001b[0m eta \u001b[36m0:00:00\u001b[0m\n",
            "\u001b[?25hCollecting scipy<1.14.0,>=1.7.0 (from gensim)\n",
            "  Downloading scipy-1.13.1-cp312-cp312-manylinux_2_17_x86_64.manylinux2014_x86_64.whl.metadata (60 kB)\n",
            "\u001b[2K     \u001b[90m━━━━━━━━━━━━━━━━━━━━━━━━━━━━━━━━━━━━━━━━\u001b[0m \u001b[32m60.6/60.6 kB\u001b[0m \u001b[31m2.2 MB/s\u001b[0m eta \u001b[36m0:00:00\u001b[0m\n",
            "\u001b[?25hRequirement already satisfied: smart-open>=1.8.1 in /usr/local/lib/python3.12/dist-packages (from gensim) (7.3.0.post1)\n",
            "Requirement already satisfied: wrapt in /usr/local/lib/python3.12/dist-packages (from smart-open>=1.8.1->gensim) (1.17.3)\n",
            "Downloading gensim-4.3.3-cp312-cp312-manylinux_2_17_x86_64.manylinux2014_x86_64.whl (26.6 MB)\n",
            "\u001b[2K   \u001b[90m━━━━━━━━━━━━━━━━━━━━━━━━━━━━━━━━━━━━━━━━\u001b[0m \u001b[32m26.6/26.6 MB\u001b[0m \u001b[31m65.9 MB/s\u001b[0m eta \u001b[36m0:00:00\u001b[0m\n",
            "\u001b[?25hDownloading numpy-1.26.4-cp312-cp312-manylinux_2_17_x86_64.manylinux2014_x86_64.whl (18.0 MB)\n",
            "\u001b[2K   \u001b[90m━━━━━━━━━━━━━━━━━━━━━━━━━━━━━━━━━━━━━━━━\u001b[0m \u001b[32m18.0/18.0 MB\u001b[0m \u001b[31m76.5 MB/s\u001b[0m eta \u001b[36m0:00:00\u001b[0m\n",
            "\u001b[?25hDownloading scipy-1.13.1-cp312-cp312-manylinux_2_17_x86_64.manylinux2014_x86_64.whl (38.2 MB)\n",
            "\u001b[2K   \u001b[90m━━━━━━━━━━━━━━━━━━━━━━━━━━━━━━━━━━━━━━━━\u001b[0m \u001b[32m38.2/38.2 MB\u001b[0m \u001b[31m16.0 MB/s\u001b[0m eta \u001b[36m0:00:00\u001b[0m\n",
            "\u001b[?25hInstalling collected packages: numpy, scipy, gensim\n",
            "  Attempting uninstall: numpy\n",
            "    Found existing installation: numpy 2.0.2\n",
            "    Uninstalling numpy-2.0.2:\n",
            "      Successfully uninstalled numpy-2.0.2\n",
            "  Attempting uninstall: scipy\n",
            "    Found existing installation: scipy 1.16.1\n",
            "    Uninstalling scipy-1.16.1:\n",
            "      Successfully uninstalled scipy-1.16.1\n",
            "\u001b[31mERROR: pip's dependency resolver does not currently take into account all the packages that are installed. This behaviour is the source of the following dependency conflicts.\n",
            "opencv-contrib-python 4.12.0.88 requires numpy<2.3.0,>=2; python_version >= \"3.9\", but you have numpy 1.26.4 which is incompatible.\n",
            "opencv-python-headless 4.12.0.88 requires numpy<2.3.0,>=2; python_version >= \"3.9\", but you have numpy 1.26.4 which is incompatible.\n",
            "opencv-python 4.12.0.88 requires numpy<2.3.0,>=2; python_version >= \"3.9\", but you have numpy 1.26.4 which is incompatible.\n",
            "thinc 8.3.6 requires numpy<3.0.0,>=2.0.0, but you have numpy 1.26.4 which is incompatible.\n",
            "tsfresh 0.21.1 requires scipy>=1.14.0; python_version >= \"3.10\", but you have scipy 1.13.1 which is incompatible.\u001b[0m\u001b[31m\n",
            "\u001b[0mSuccessfully installed gensim-4.3.3 numpy-1.26.4 scipy-1.13.1\n"
          ]
        },
        {
          "output_type": "display_data",
          "data": {
            "application/vnd.colab-display-data+json": {
              "pip_warning": {
                "packages": [
                  "numpy",
                  "scipy"
                ]
              },
              "id": "196549298d414e8fb6ab8fd5f8b4cffa"
            }
          },
          "metadata": {}
        }
      ]
    },
    {
      "cell_type": "code",
      "source": [
        "# Imports\n",
        "import pandas as pd\n",
        "import numpy as np\n",
        "import re\n",
        "import string\n",
        "from sklearn.model_selection import train_test_split\n",
        "from sklearn.linear_model import LogisticRegression\n",
        "from sklearn.metrics import accuracy_score, precision_recall_fscore_support\n",
        "from gensim.models import Word2Vec, FastText\n",
        "import gensim.downloader as api\n",
        "from nltk.corpus import stopwords\n",
        "from nltk.tokenize import word_tokenize\n",
        "import nltk\n",
        "import kagglehub\n",
        "\n",
        "# NLTK downloads\n",
        "nltk.download('punkt')\n",
        "nltk.download('stopwords')\n",
        "\n",
        "# Download latest version of dataset from Kaggle\n",
        "path = kagglehub.dataset_download(\"lakshmi25npathi/imdb-dataset-of-50k-movie-reviews\")\n",
        "print(\"Path to dataset files:\", path)\n",
        "\n",
        "# Load the data from the downloaded path\n",
        "df = pd.read_csv(f\"{path}/IMDB Dataset.csv\")\n",
        "print(df.head())\n",
        "print(df['sentiment'].value_counts())\n"
      ],
      "metadata": {
        "colab": {
          "base_uri": "https://localhost:8080/"
        },
        "id": "vcGaJxPuihCR",
        "outputId": "506063aa-5cf8-4a5d-a298-c9c05ebfab9f"
      },
      "execution_count": 4,
      "outputs": [
        {
          "output_type": "stream",
          "name": "stderr",
          "text": [
            "[nltk_data] Downloading package punkt to /root/nltk_data...\n",
            "[nltk_data]   Package punkt is already up-to-date!\n",
            "[nltk_data] Downloading package stopwords to /root/nltk_data...\n",
            "[nltk_data]   Package stopwords is already up-to-date!\n"
          ]
        },
        {
          "output_type": "stream",
          "name": "stdout",
          "text": [
            "Using Colab cache for faster access to the 'imdb-dataset-of-50k-movie-reviews' dataset.\n",
            "Path to dataset files: /kaggle/input/imdb-dataset-of-50k-movie-reviews\n",
            "                                              review sentiment\n",
            "0  One of the other reviewers has mentioned that ...  positive\n",
            "1  A wonderful little production. <br /><br />The...  positive\n",
            "2  I thought this was a wonderful way to spend ti...  positive\n",
            "3  Basically there's a family where a little boy ...  negative\n",
            "4  Petter Mattei's \"Love in the Time of Money\" is...  positive\n",
            "sentiment\n",
            "positive    25000\n",
            "negative    25000\n",
            "Name: count, dtype: int64\n"
          ]
        }
      ]
    },
    {
      "cell_type": "code",
      "source": [
        "df['review_length'] = df['review'].apply(lambda x: len(x.split()))\n",
        "print(df['review_length'].describe())\n",
        "df['sentiment'].value_counts().plot(kind='bar', title=\"Sentiment Distribution\")"
      ],
      "metadata": {
        "colab": {
          "base_uri": "https://localhost:8080/",
          "height": 693
        },
        "id": "pNtQiwg8khl0",
        "outputId": "80988086-edbb-43b4-a51f-7ba4ee7c5e7d"
      },
      "execution_count": 5,
      "outputs": [
        {
          "output_type": "stream",
          "name": "stdout",
          "text": [
            "count    50000.000000\n",
            "mean       231.156940\n",
            "std        171.343997\n",
            "min          4.000000\n",
            "25%        126.000000\n",
            "50%        173.000000\n",
            "75%        280.000000\n",
            "max       2470.000000\n",
            "Name: review_length, dtype: float64\n"
          ]
        },
        {
          "output_type": "execute_result",
          "data": {
            "text/plain": [
              "<Axes: title={'center': 'Sentiment Distribution'}, xlabel='sentiment'>"
            ]
          },
          "metadata": {},
          "execution_count": 5
        },
        {
          "output_type": "display_data",
          "data": {
            "text/plain": [
              "<Figure size 640x480 with 1 Axes>"
            ],
            "image/png": "[encoded data removed]"
          },
          "metadata": {}
        }
      ]
    },
    {
      "cell_type": "code",
      "source": [
        "import nltk\n",
        "nltk.download('punkt')\n",
        "nltk.download('punkt_tab')\n",
        "nltk.download('stopwords')\n",
        "\n",
        "import re\n",
        "import string\n",
        "from nltk.corpus import stopwords\n",
        "from nltk.tokenize import word_tokenize\n",
        "\n",
        "stop_words = set(stopwords.words('english'))\n",
        "\n",
        "def clean_text(text):\n",
        "    # Lowercase\n",
        "    text = text.lower()\n",
        "    # Remove HTML tags\n",
        "    text = re.sub(r'<.*?>', '', text)\n",
        "    # Remove punctuation\n",
        "    text = text.translate(str.maketrans('', '', string.punctuation))\n",
        "    # Tokenize\n",
        "    tokens = word_tokenize(text)\n",
        "    # Remove stopwords and non-alpha tokens\n",
        "    tokens = [t for t in tokens if t.isalpha() and t not in stop_words]\n",
        "    return tokens\n",
        "\n",
        "df['tokens'] = df['review'].apply(clean_text)\n",
        "print(df['tokens'].head())\n"
      ],
      "metadata": {
        "colab": {
          "base_uri": "https://localhost:8080/"
        },
        "id": "nxADN8YcklkF",
        "outputId": "b7d81ca0-cb50-418a-ece9-e8e781ed1476"
      },
      "execution_count": 7,
      "outputs": [
        {
          "output_type": "stream",
          "name": "stderr",
          "text": [
            "[nltk_data] Downloading package punkt to /root/nltk_data...\n",
            "[nltk_data]   Package punkt is already up-to-date!\n",
            "[nltk_data] Downloading package punkt_tab to /root/nltk_data...\n",
            "[nltk_data]   Unzipping tokenizers/punkt_tab.zip.\n",
            "[nltk_data] Downloading package stopwords to /root/nltk_data...\n",
            "[nltk_data]   Package stopwords is already up-to-date!\n"
          ]
        },
        {
          "output_type": "stream",
          "name": "stdout",
          "text": [
            "0    [one, reviewers, mentioned, watching, oz, epis...\n",
            "1    [wonderful, little, production, filming, techn...\n",
            "2    [thought, wonderful, way, spend, time, hot, su...\n",
            "3    [basically, theres, family, little, boy, jake,...\n",
            "4    [petter, matteis, love, time, money, visually,...\n",
            "Name: tokens, dtype: object\n"
          ]
        }
      ]
    },
    {
      "cell_type": "code",
      "source": [
        "from nltk.tokenize import word_tokenize\n",
        "print(word_tokenize(\"Testing if the punkt tokenizer works now!\"))"
      ],
      "metadata": {
        "colab": {
          "base_uri": "https://localhost:8080/"
        },
        "id": "uNUIlK3HlFUy",
        "outputId": "3f0f1257-0d25-4d65-97a8-7b346f9af7b0"
      },
      "execution_count": 8,
      "outputs": [
        {
          "output_type": "stream",
          "name": "stdout",
          "text": [
            "['Testing', 'if', 'the', 'punkt', 'tokenizer', 'works', 'now', '!']\n"
          ]
        }
      ]
    },
    {
      "cell_type": "code",
      "source": [
        "X = df['tokens']\n",
        "y = df['sentiment'].map({'positive':1, 'negative':0})\n",
        "\n",
        "X_train, X_test, y_train, y_test = train_test_split(X, y, test_size=0.2, random_state=42)\n"
      ],
      "metadata": {
        "id": "AK26706ilH3Y"
      },
      "execution_count": 9,
      "outputs": []
    },
    {
      "cell_type": "code",
      "source": [
        "def get_review_vector(tokens, model, vector_size):\n",
        "    vecs = [model[w] for w in tokens if w in model]\n",
        "    if not vecs:\n",
        "        return np.zeros(vector_size)\n",
        "    return np.mean(vecs, axis=0)\n"
      ],
      "metadata": {
        "id": "NyPRgFvFlJ2n"
      },
      "execution_count": 10,
      "outputs": []
    },
    {
      "cell_type": "code",
      "source": [
        "#pre trained\n",
        "wv = api.load(\"glove-wiki-gigaword-100\")  # Or try 'word2vec-google-news-300'\n",
        "\n",
        "X_train_wv = np.vstack([get_review_vector(x, wv, 100) for x in X_train])\n",
        "X_test_wv  = np.vstack([get_review_vector(x, wv, 100) for x in X_test])\n"
      ],
      "metadata": {
        "colab": {
          "base_uri": "https://localhost:8080/"
        },
        "id": "iOBPG2KzlMNk",
        "outputId": "6768f114-237d-435f-d6f4-6a1deefa1f38"
      },
      "execution_count": 11,
      "outputs": [
        {
          "output_type": "stream",
          "name": "stdout",
          "text": [
            "[==================================================] 100.0% 128.1/128.1MB downloaded\n"
          ]
        }
      ]
    },
    {
      "cell_type": "code",
      "source": [
        "#Custom Skip-gram Word2Vec\n",
        "skipgram_model = Word2Vec(sentences=X_train, vector_size=100, window=5, min_count=2, sg=1, epochs=5)\n",
        "X_train_sg = np.vstack([get_review_vector(x, skipgram_model.wv, 100) for x in X_train])\n",
        "X_test_sg  = np.vstack([get_review_vector(x, skipgram_model.wv, 100) for x in X_test])"
      ],
      "metadata": {
        "id": "hRZ4gKtplicb"
      },
      "execution_count": 12,
      "outputs": []
    },
    {
      "cell_type": "code",
      "source": [
        "#Custom CBOW Word2Vec\n",
        "cbow_model = Word2Vec(sentences=X_train, vector_size=100, window=5, min_count=2, sg=0, epochs=5)\n",
        "X_train_cbow = np.vstack([get_review_vector(x, cbow_model.wv, 100) for x in X_train])\n",
        "X_test_cbow  = np.vstack([get_review_vector(x, cbow_model.wv, 100) for x in X_test])"
      ],
      "metadata": {
        "id": "WiWWCNemsBEW"
      },
      "execution_count": 13,
      "outputs": []
    },
    {
      "cell_type": "code",
      "source": [
        "#Custom FastText\n",
        "ft_model = FastText(sentences=X_train, vector_size=100, window=5, min_count=2, epochs=5)\n",
        "X_train_ft = np.vstack([get_review_vector(x, ft_model.wv, 100) for x in X_train])\n",
        "X_test_ft  = np.vstack([get_review_vector(x, ft_model.wv, 100) for x in X_test])"
      ],
      "metadata": {
        "id": "ZU-lVuLTsY_6"
      },
      "execution_count": 14,
      "outputs": []
    },
    {
      "cell_type": "code",
      "source": [
        "#training and eval\n",
        "def eval_model(X_train, X_test, y_train, y_test):\n",
        "    clf = LogisticRegression(max_iter=200)\n",
        "    clf.fit(X_train, y_train)\n",
        "    y_pred = clf.predict(X_test)\n",
        "    acc = accuracy_score(y_test, y_pred)\n",
        "    pr, rc, f1, _ = precision_recall_fscore_support(y_test, y_pred, average=\"binary\")\n",
        "    return acc, pr, rc, f1\n",
        "\n",
        "results = {}\n",
        "results['Pre-trained W2V'] = eval_model(X_train_wv, X_test_wv, y_train, y_test)\n",
        "results['Skip-gram']        = eval_model(X_train_sg, X_test_sg, y_train, y_test)\n",
        "results['CBOW']             = eval_model(X_train_cbow, X_test_cbow, y_train, y_test)\n",
        "results['FastText']         = eval_model(X_train_ft, X_test_ft, y_train, y_test)\n"
      ],
      "metadata": {
        "id": "LZFDYhTntwnW"
      },
      "execution_count": 15,
      "outputs": []
    },
    {
      "cell_type": "code",
      "source": [
        "#results\n",
        "results_table = pd.DataFrame(results, index=[\"Accuracy\", \"Precision\", \"Recall\", \"F1\"]).T\n",
        "print(results_table)\n"
      ],
      "metadata": {
        "colab": {
          "base_uri": "https://localhost:8080/"
        },
        "id": "WOHDTuXOt1pF",
        "outputId": "dc2e320b-7d31-472b-880b-297808144e15"
      },
      "execution_count": 16,
      "outputs": [
        {
          "output_type": "stream",
          "name": "stdout",
          "text": [
            "                 Accuracy  Precision    Recall        F1\n",
            "Pre-trained W2V    0.7992   0.801832  0.798968  0.800398\n",
            "Skip-gram          0.8714   0.868592  0.877555  0.873050\n",
            "CBOW               0.8549   0.849027  0.866045  0.857452\n",
            "FastText           0.8398   0.835186  0.849772  0.842416\n"
          ]
        }
      ]
    }
  ]
}